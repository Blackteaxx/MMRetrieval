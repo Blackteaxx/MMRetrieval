{
 "cells": [
  {
   "cell_type": "code",
   "execution_count": 1,
   "metadata": {},
   "outputs": [
    {
     "name": "stderr",
     "output_type": "stream",
     "text": [
      "/home/hutu/miniconda3/lib/python3.12/site-packages/tqdm/auto.py:21: TqdmWarning: IProgress not found. Please update jupyter and ipywidgets. See https://ipywidgets.readthedocs.io/en/stable/user_install.html\n",
      "  from .autonotebook import tqdm as notebook_tqdm\n",
      "/home/hutu/miniconda3/lib/python3.12/site-packages/timm/models/layers/__init__.py:48: FutureWarning: Importing from timm.models.layers is deprecated, please import via timm.layers\n",
      "  warnings.warn(f\"Importing from {__name__} is deprecated, please import via timm.layers\", FutureWarning)\n",
      "/ssd2/hutu_data/MMRetrieval/train/modeling_visbge.py:106: FutureWarning: You are using `torch.load` with `weights_only=False` (the current default value), which uses the default pickle module implicitly. It is possible to construct malicious pickle data which will execute arbitrary code during unpickling (See https://github.com/pytorch/pytorch/blob/main/SECURITY.md#untrusted-models for more details). In a future release, the default value for `weights_only` will be flipped to `True`. This limits the functions that could be executed during unpickling. Arbitrary objects will no longer be allowed to be loaded via this mode unless they are explicitly allowlisted by the user via `torch.serialization.add_safe_globals`. We recommend you start setting `weights_only=True` for any use case where you don't have full control of the loaded file. Please open an issue on GitHub for any issues related to this experimental feature.\n",
      "  self.load_state_dict(torch.load(model_weight, map_location='cpu'))\n"
     ]
    },
    {
     "data": {
      "text/plain": [
       "Visualized_BGE(\n",
       "  (bge_encoder): BertEncoder(\n",
       "    (layer): ModuleList(\n",
       "      (0-11): 12 x BertLayer(\n",
       "        (attention): BertAttention(\n",
       "          (self): BertSdpaSelfAttention(\n",
       "            (query): Linear(in_features=768, out_features=768, bias=True)\n",
       "            (key): Linear(in_features=768, out_features=768, bias=True)\n",
       "            (value): Linear(in_features=768, out_features=768, bias=True)\n",
       "            (dropout): Dropout(p=0.1, inplace=False)\n",
       "          )\n",
       "          (output): BertSelfOutput(\n",
       "            (dense): Linear(in_features=768, out_features=768, bias=True)\n",
       "            (LayerNorm): LayerNorm((768,), eps=1e-12, elementwise_affine=True)\n",
       "            (dropout): Dropout(p=0.1, inplace=False)\n",
       "          )\n",
       "        )\n",
       "        (intermediate): BertIntermediate(\n",
       "          (dense): Linear(in_features=768, out_features=3072, bias=True)\n",
       "          (intermediate_act_fn): GELUActivation()\n",
       "        )\n",
       "        (output): BertOutput(\n",
       "          (dense): Linear(in_features=3072, out_features=768, bias=True)\n",
       "          (LayerNorm): LayerNorm((768,), eps=1e-12, elementwise_affine=True)\n",
       "          (dropout): Dropout(p=0.1, inplace=False)\n",
       "        )\n",
       "      )\n",
       "    )\n",
       "  )\n",
       "  (bge_embeddings): BertEmbeddings(\n",
       "    (word_embeddings): Embedding(30522, 768, padding_idx=0)\n",
       "    (position_embeddings): Embedding(512, 768)\n",
       "    (token_type_embeddings): Embedding(2, 768)\n",
       "    (LayerNorm): LayerNorm((768,), eps=1e-12, elementwise_affine=True)\n",
       "    (dropout): Dropout(p=0.1, inplace=False)\n",
       "  )\n",
       "  (bge_pooler): BertPooler(\n",
       "    (dense): Linear(in_features=768, out_features=768, bias=True)\n",
       "    (activation): Tanh()\n",
       "  )\n",
       "  (model_visual): CustomCLIP(\n",
       "    (visual): EVAVisionTransformer(\n",
       "      (patch_embed): PatchEmbed(\n",
       "        (proj): Conv2d(3, 768, kernel_size=(16, 16), stride=(16, 16))\n",
       "      )\n",
       "      (pos_drop): Dropout(p=0.0, inplace=False)\n",
       "      (rope): VisionRotaryEmbeddingFast()\n",
       "      (blocks): ModuleList(\n",
       "        (0-11): 12 x Block(\n",
       "          (norm1): LayerNorm((768,), eps=1e-06, elementwise_affine=True)\n",
       "          (attn): Attention(\n",
       "            (q_proj): Linear(in_features=768, out_features=768, bias=False)\n",
       "            (k_proj): Linear(in_features=768, out_features=768, bias=False)\n",
       "            (v_proj): Linear(in_features=768, out_features=768, bias=False)\n",
       "            (attn_drop): Dropout(p=0.0, inplace=False)\n",
       "            (inner_attn_ln): LayerNorm((768,), eps=1e-06, elementwise_affine=True)\n",
       "            (proj): Linear(in_features=768, out_features=768, bias=True)\n",
       "            (proj_drop): Dropout(p=0.0, inplace=False)\n",
       "            (rope): VisionRotaryEmbeddingFast()\n",
       "          )\n",
       "          (drop_path): Identity()\n",
       "          (norm2): LayerNorm((768,), eps=1e-06, elementwise_affine=True)\n",
       "          (mlp): SwiGLU(\n",
       "            (w1): Linear(in_features=768, out_features=2048, bias=True)\n",
       "            (w2): Linear(in_features=768, out_features=2048, bias=True)\n",
       "            (act): SiLU()\n",
       "            (ffn_ln): LayerNorm((2048,), eps=1e-06, elementwise_affine=True)\n",
       "            (w3): Linear(in_features=2048, out_features=768, bias=True)\n",
       "            (drop): Dropout(p=0.0, inplace=False)\n",
       "          )\n",
       "        )\n",
       "      )\n",
       "      (norm): LayerNorm((768,), eps=1e-06, elementwise_affine=True)\n",
       "      (head): Linear(in_features=768, out_features=512, bias=True)\n",
       "      (patch_dropout): PatchDropout()\n",
       "    )\n",
       "    (text): None\n",
       "  )\n",
       "  (visual_proj): Linear(in_features=768, out_features=768, bias=True)\n",
       "  (cross_entropy): CrossEntropyLoss()\n",
       ")"
      ]
     },
     "execution_count": 1,
     "metadata": {},
     "output_type": "execute_result"
    }
   ],
   "source": [
    "import torch\n",
    "from train.modeling_visbge import Visualized_BGE\n",
    "\n",
    "model = Visualized_BGE(\n",
    "    model_name_bge=\"BAAI/bge-base-en-v1.5\",\n",
    "    model_weight=\"/ssd2/hutu_data/MMRetrieval/model/BAAI/bge-visualized/Visualized_base_en_v1.5.pth\",\n",
    ")\n",
    "model.eval()\n",
    "model"
   ]
  },
  {
   "cell_type": "code",
   "execution_count": 4,
   "metadata": {},
   "outputs": [
    {
     "name": "stdout",
     "output_type": "stream",
     "text": [
      "tensor([[0.6932]], device='cuda:0') tensor([[0.4441]], device='cuda:0') tensor([[0.6415]], device='cuda:0')\n"
     ]
    }
   ],
   "source": [
    "####### Use Visualized BGE doing multi-modal knowledge retrieval\n",
    "model = Visualized_BGE(\n",
    "    model_name_bge=\"BAAI/bge-base-en-v1.5\",\n",
    "    model_weight=\"/ssd2/hutu_data/MMRetrieval/model/BAAI/bge-visualized/Visualized_base_en_v1.5.pth\",\n",
    ")\n",
    "model.eval()\n",
    "with torch.no_grad():\n",
    "    query_emb = model.encode(\n",
    "        text=\"Are there sidewalks on both sides of the Mid-Hudson Bridge?\"\n",
    "    )\n",
    "    candi_emb_1 = model.encode(\n",
    "        text=\"The Mid-Hudson Bridge, spanning the Hudson River between Poughkeepsie and Highland.\",\n",
    "        image=\"FlagEmbedding/research/visual_bge/imgs/wiki_candi_1.jpg\",\n",
    "    )\n",
    "    candi_emb_2 = model.encode(\n",
    "        text=\"Golden_Gate_Bridge\",\n",
    "        image=\"FlagEmbedding/research/visual_bge/imgs/wiki_candi_2.jpg\",\n",
    "    )\n",
    "    candi_emb_3 = model.encode(\n",
    "        text='The Mid-Hudson Bridge was designated as a New York State Historic Civil Engineering Landmark by the American Society of Civil Engineers in 1983. The bridge was renamed the \"Franklin Delano Roosevelt Mid-Hudson Bridge\" in 1994.'\n",
    "    )\n",
    "\n",
    "sim_1 = query_emb @ candi_emb_1.T\n",
    "sim_2 = query_emb @ candi_emb_2.T\n",
    "sim_3 = query_emb @ candi_emb_3.T\n",
    "print(sim_1, sim_2, sim_3)  # tensor([[0.6932]]) tensor([[0.4441]]) tensor([[0.6415]])"
   ]
  }
 ],
 "metadata": {
  "kernelspec": {
   "display_name": "base",
   "language": "python",
   "name": "python3"
  },
  "language_info": {
   "codemirror_mode": {
    "name": "ipython",
    "version": 3
   },
   "file_extension": ".py",
   "mimetype": "text/x-python",
   "name": "python",
   "nbconvert_exporter": "python",
   "pygments_lexer": "ipython3",
   "version": "3.12.8"
  }
 },
 "nbformat": 4,
 "nbformat_minor": 2
}
