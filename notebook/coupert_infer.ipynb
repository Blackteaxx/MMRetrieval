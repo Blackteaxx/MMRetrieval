{
 "cells": [
  {
   "cell_type": "code",
   "execution_count": 1,
   "metadata": {},
   "outputs": [],
   "source": [
    "import os\n",
    "import sys\n",
    "\n",
    "project_root = os.path.abspath(os.path.join(os.path.dirname(\"__file__\"), \"..\"))\n",
    "sys.path.append(project_root)\n",
    "os.environ[\"TOKENIZERS_PARALLELISM\"] = \"false\""
   ]
  },
  {
   "cell_type": "code",
   "execution_count": 2,
   "metadata": {},
   "outputs": [
    {
     "name": "stderr",
     "output_type": "stream",
     "text": [
      "/home/hutu/miniconda3/lib/python3.12/site-packages/tqdm/auto.py:21: TqdmWarning: IProgress not found. Please update jupyter and ipywidgets. See https://ipywidgets.readthedocs.io/en/stable/user_install.html\n",
      "  from .autonotebook import tqdm as notebook_tqdm\n",
      "/home/hutu/miniconda3/lib/python3.12/site-packages/albumentations/__init__.py:24: UserWarning: A new version of Albumentations is available: 2.0.0 (you have 1.4.24). Upgrade using: pip install -U albumentations. To disable automatic update checks, set the environment variable NO_ALBUMENTATIONS_UPDATE to 1.\n",
      "  check_for_updates()\n"
     ]
    }
   ],
   "source": [
    "from src.dataset.coupert import CoupertDataset\n",
    "from src.arguments import DataArguments\n",
    "from transformers import AutoTokenizer, AutoModel\n",
    "import torch\n",
    "from tqdm import tqdm\n",
    "import numpy as np\n",
    "from safetensors.torch import save_file, load_file\n",
    "\n",
    "model_dir = \"../model/BAAI/bge_base_en_v1.5\"\n",
    "\n",
    "data_dir = \"../data/coupert\""
   ]
  },
  {
   "cell_type": "code",
   "execution_count": 3,
   "metadata": {},
   "outputs": [],
   "source": [
    "tokenizer = AutoTokenizer.from_pretrained(model_dir)\n",
    "model = AutoModel.from_pretrained(model_dir, device_map=\"auto\")\n",
    "\n",
    "train_config = DataArguments(data_dir=data_dir, read_mode=\"text\")\n",
    "\n",
    "eval_config = DataArguments(data_dir=data_dir, read_mode=\"text\")\n",
    "gallery_config = DataArguments(data_dir=data_dir, read_mode=\"text\")\n",
    "\n",
    "train_dataset = CoupertDataset(train_config, mode=\"train\")\n",
    "eval_dataset = CoupertDataset(eval_config, mode=\"eval\")\n",
    "gallery_dataset = CoupertDataset(gallery_config, mode=\"gallery\")"
   ]
  },
  {
   "cell_type": "code",
   "execution_count": 4,
   "metadata": {},
   "outputs": [],
   "source": [
    "# # test dataset\n",
    "# for data in tqdm(train_dataset):\n",
    "#     # print(data)\n",
    "#     continue"
   ]
  },
  {
   "cell_type": "code",
   "execution_count": 5,
   "metadata": {},
   "outputs": [],
   "source": [
    "import logging\n",
    "\n",
    "\n",
    "def get_collate_fn(tokenizer, mode=\"train\"):\n",
    "    def collate_fn(batch):\n",
    "        titles = [item[\"title\"] for item in batch]\n",
    "        inputs = tokenizer(\n",
    "            titles,\n",
    "            padding=True,\n",
    "            truncation=True,\n",
    "            return_tensors=\"pt\",\n",
    "            max_length=256,\n",
    "        )\n",
    "        return inputs\n",
    "\n",
    "    return collate_fn\n",
    "\n",
    "\n",
    "train_loader = torch.utils.data.DataLoader(\n",
    "    train_dataset,\n",
    "    batch_size=512,\n",
    "    shuffle=True,\n",
    "    collate_fn=get_collate_fn(tokenizer, mode=\"train\"),\n",
    "    num_workers=32,\n",
    "    pin_memory=True,\n",
    ")\n",
    "\n",
    "eval_loader = torch.utils.data.DataLoader(\n",
    "    eval_dataset,\n",
    "    batch_size=512,\n",
    "    shuffle=False,\n",
    "    collate_fn=get_collate_fn(tokenizer, mode=\"eval\"),\n",
    "    num_workers=32,\n",
    "    pin_memory=True,\n",
    ")\n",
    "\n",
    "gallery_loader = torch.utils.data.DataLoader(\n",
    "    gallery_dataset,\n",
    "    batch_size=512,\n",
    "    shuffle=False,\n",
    "    collate_fn=get_collate_fn(tokenizer, mode=\"gallery\"),\n",
    "    num_workers=32,\n",
    "    pin_memory=True,\n",
    ")"
   ]
  },
  {
   "cell_type": "code",
   "execution_count": 6,
   "metadata": {},
   "outputs": [
    {
     "name": "stderr",
     "output_type": "stream",
     "text": [
      "100%|██████████| 32/32 [00:14<00:00,  2.24it/s]\n",
      "100%|██████████| 4860/4860 [14:18<00:00,  5.66it/s]\n"
     ]
    },
    {
     "name": "stdout",
     "output_type": "stream",
     "text": [
      "(16271, 768)\n",
      "(2488144, 768)\n"
     ]
    }
   ],
   "source": [
    "eval_embs = []\n",
    "gallery_embs = []\n",
    "with torch.no_grad():\n",
    "    with torch.amp.autocast(\"cuda\", torch.float16):\n",
    "        for inputs in tqdm(eval_loader):\n",
    "            inputs = {k: v.to(\"cuda\") for k, v in inputs.items()}\n",
    "            outputs = model(**inputs).last_hidden_state[:, -1].detach().cpu().numpy()\n",
    "            eval_embs.append(outputs)\n",
    "        for inputs in tqdm(gallery_loader):\n",
    "            inputs = {k: v.to(\"cuda\") for k, v in inputs.items()}\n",
    "            outputs = model(**inputs).last_hidden_state[:, -1].detach().cpu().numpy()\n",
    "            gallery_embs.append(outputs)\n",
    "\n",
    "eval_embs = np.concatenate(eval_embs, axis=0)\n",
    "gallery_embs = np.concatenate(gallery_embs, axis=0)\n",
    "eval_embs /= np.linalg.norm(eval_embs, axis=1, keepdims=True)\n",
    "gallery_embs /= np.linalg.norm(gallery_embs, axis=1, keepdims=True)\n",
    "print(eval_embs.shape)\n",
    "print(gallery_embs.shape)"
   ]
  },
  {
   "cell_type": "code",
   "execution_count": 7,
   "metadata": {},
   "outputs": [],
   "source": [
    "eval_embs = torch.tensor(eval_embs)\n",
    "gallery_embs = torch.tensor(gallery_embs)\n",
    "\n",
    "save_file(\n",
    "    {\"eval_embs\": eval_embs, \"gallery_embs\": gallery_embs},\n",
    "    \"../embeddings/embs_bge_base_en.safetensors\",\n",
    ")"
   ]
  }
 ],
 "metadata": {
  "kernelspec": {
   "display_name": "base",
   "language": "python",
   "name": "python3"
  },
  "language_info": {
   "codemirror_mode": {
    "name": "ipython",
    "version": 3
   },
   "file_extension": ".py",
   "mimetype": "text/x-python",
   "name": "python",
   "nbconvert_exporter": "python",
   "pygments_lexer": "ipython3",
   "version": "3.12.8"
  }
 },
 "nbformat": 4,
 "nbformat_minor": 2
}
