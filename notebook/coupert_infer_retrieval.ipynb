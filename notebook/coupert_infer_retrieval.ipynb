{
 "cells": [
  {
   "cell_type": "markdown",
   "metadata": {},
   "source": [
    "## Start compute simliarity between two strings"
   ]
  },
  {
   "cell_type": "code",
   "execution_count": 1,
   "metadata": {},
   "outputs": [],
   "source": [
    "import os\n",
    "import sys\n",
    "\n",
    "project_root = os.path.abspath(os.path.join(os.path.dirname(\"__file__\"), \"..\"))\n",
    "sys.path.append(project_root)\n",
    "os.environ[\"TOKENIZERS_PARALLELISM\"] = \"false\"\n"
   ]
  },
  {
   "cell_type": "code",
   "execution_count": 2,
   "metadata": {},
   "outputs": [
    {
     "name": "stderr",
     "output_type": "stream",
     "text": [
      "/home/hutu/miniconda3/lib/python3.12/site-packages/tqdm/auto.py:21: TqdmWarning: IProgress not found. Please update jupyter and ipywidgets. See https://ipywidgets.readthedocs.io/en/stable/user_install.html\n",
      "  from .autonotebook import tqdm as notebook_tqdm\n",
      "/home/hutu/miniconda3/lib/python3.12/site-packages/albumentations/__init__.py:24: UserWarning: A new version of Albumentations is available: 2.0.0 (you have 1.4.24). Upgrade using: pip install -U albumentations. To disable automatic update checks, set the environment variable NO_ALBUMENTATIONS_UPDATE to 1.\n",
      "  check_for_updates()\n"
     ]
    }
   ],
   "source": [
    "from src.dataset.coupert import CoupertDataset\n",
    "from src.arguments import DataArguments\n",
    "from utils.retrieval import retrieval\n",
    "from utils.metrics import compute_recall\n",
    "from transformers import AutoTokenizer, AutoModel\n",
    "import torch\n",
    "from tqdm import tqdm\n",
    "import numpy as np\n",
    "import pandas as pd\n",
    "from safetensors.torch import save_file, load_file\n",
    "\n",
    "model_dir = \"../model/BAAI/bge-large-en-v1.5\"\n",
    "embedding_path = os.path.join(\n",
    "    \"../embeddings/\", model_dir.split(\"/\")[-1] + \".safetensors\"\n",
    ")\n",
    "data_dir = \"../data/coupert\"\n",
    "device = \"cuda:1\"\n"
   ]
  },
  {
   "cell_type": "code",
   "execution_count": 3,
   "metadata": {},
   "outputs": [],
   "source": [
    "embs = load_file(embedding_path)\n",
    "eval_embs = embs[\"eval_embs\"]\n",
    "gallery_embs = embs[\"gallery_embs\"]"
   ]
  },
  {
   "cell_type": "code",
   "execution_count": 4,
   "metadata": {},
   "outputs": [],
   "source": [
    "eval_df = pd.read_json(\"../data/coupert/coupert_eval.jsonl\", lines=True)\n",
    "gallery_df = pd.read_json(\"../data/coupert/coupert_gallery.jsonl\", lines=True)\n"
   ]
  },
  {
   "cell_type": "code",
   "execution_count": 5,
   "metadata": {},
   "outputs": [
    {
     "data": {
      "text/plain": [
       "(2488144, torch.Size([2488144, 1024]))"
      ]
     },
     "execution_count": 5,
     "metadata": {},
     "output_type": "execute_result"
    }
   ],
   "source": [
    "gallery_ids = gallery_df[\"dp-id\"].values.tolist()\n",
    "len(gallery_ids), gallery_embs.shape"
   ]
  },
  {
   "cell_type": "code",
   "execution_count": 6,
   "metadata": {},
   "outputs": [
    {
     "ename": "OutOfMemoryError",
     "evalue": "CUDA out of memory. Tried to allocate 9.49 GiB. GPU 1 has a total capacity of 10.75 GiB of which 58.50 MiB is free. Process 3132175 has 10.47 GiB memory in use. Including non-PyTorch memory, this process has 218.00 MiB memory in use. Of the allocated memory 64.00 MiB is allocated by PyTorch, and 0 bytes is reserved by PyTorch but unallocated. If reserved but unallocated memory is large try setting PYTORCH_CUDA_ALLOC_CONF=expandable_segments:True to avoid fragmentation.  See documentation for Memory Management  (https://pytorch.org/docs/stable/notes/cuda.html#environment-variables)",
     "output_type": "error",
     "traceback": [
      "\u001b[0;31m---------------------------------------------------------------------------\u001b[0m",
      "\u001b[0;31mOutOfMemoryError\u001b[0m                          Traceback (most recent call last)",
      "Cell \u001b[0;32mIn[6], line 1\u001b[0m\n\u001b[0;32m----> 1\u001b[0m ret_ids \u001b[38;5;241m=\u001b[39m \u001b[43mretrieval\u001b[49m\u001b[43m(\u001b[49m\n\u001b[1;32m      2\u001b[0m \u001b[43m    \u001b[49m\u001b[43meval_embs\u001b[49m\u001b[43m,\u001b[49m\u001b[43m \u001b[49m\u001b[43mgallery_embs\u001b[49m\u001b[43m,\u001b[49m\u001b[43m \u001b[49m\u001b[43mgallery_ids\u001b[49m\u001b[38;5;241;43m=\u001b[39;49m\u001b[43mgallery_ids\u001b[49m\u001b[43m,\u001b[49m\u001b[43m \u001b[49m\u001b[43mtopK\u001b[49m\u001b[38;5;241;43m=\u001b[39;49m\u001b[38;5;241;43m50\u001b[39;49m\u001b[43m,\u001b[49m\u001b[43m \u001b[49m\u001b[43mdevice\u001b[49m\u001b[38;5;241;43m=\u001b[39;49m\u001b[43mdevice\u001b[49m\n\u001b[1;32m      3\u001b[0m \u001b[43m)\u001b[49m\n\u001b[1;32m      4\u001b[0m eval_df[\u001b[38;5;124m\"\u001b[39m\u001b[38;5;124mpred\u001b[39m\u001b[38;5;124m\"\u001b[39m] \u001b[38;5;241m=\u001b[39m ret_ids\n",
      "File \u001b[0;32m/ssd2/hutu_data/MMRetrieval/utils/retrieval.py:50\u001b[0m, in \u001b[0;36mretrieval\u001b[0;34m(embs, gallery_embs, gallery_ids, chunk_size, gallery_chunk_size, threshold, topK, device)\u001b[0m\n\u001b[1;32m     47\u001b[0m gallery_embs_pt \u001b[38;5;241m=\u001b[39m gallery_embs_pt \u001b[38;5;241m/\u001b[39m gallery_embs_pt\u001b[38;5;241m.\u001b[39mnorm(p\u001b[38;5;241m=\u001b[39m\u001b[38;5;241m2\u001b[39m, dim\u001b[38;5;241m=\u001b[39m\u001b[38;5;241m-\u001b[39m\u001b[38;5;241m1\u001b[39m, keepdim\u001b[38;5;241m=\u001b[39m\u001b[38;5;28;01mTrue\u001b[39;00m)\n\u001b[1;32m     49\u001b[0m embs_pt \u001b[38;5;241m=\u001b[39m embs_pt\u001b[38;5;241m.\u001b[39mto(device)\n\u001b[0;32m---> 50\u001b[0m gallery_embs_pt \u001b[38;5;241m=\u001b[39m \u001b[43mgallery_embs_pt\u001b[49m\u001b[38;5;241;43m.\u001b[39;49m\u001b[43mto\u001b[49m\u001b[43m(\u001b[49m\u001b[43mdevice\u001b[49m\u001b[43m)\u001b[49m\n\u001b[1;32m     52\u001b[0m num_chunks \u001b[38;5;241m=\u001b[39m (embs_pt\u001b[38;5;241m.\u001b[39mshape[\u001b[38;5;241m0\u001b[39m] \u001b[38;5;241m+\u001b[39m chunk_size \u001b[38;5;241m-\u001b[39m \u001b[38;5;241m1\u001b[39m) \u001b[38;5;241m/\u001b[39m\u001b[38;5;241m/\u001b[39m chunk_size\n\u001b[1;32m     53\u001b[0m num_gallery_chunks \u001b[38;5;241m=\u001b[39m (\n\u001b[1;32m     54\u001b[0m     gallery_embs_pt\u001b[38;5;241m.\u001b[39mshape[\u001b[38;5;241m0\u001b[39m] \u001b[38;5;241m+\u001b[39m gallery_chunk_size \u001b[38;5;241m-\u001b[39m \u001b[38;5;241m1\u001b[39m\n\u001b[1;32m     55\u001b[0m ) \u001b[38;5;241m/\u001b[39m\u001b[38;5;241m/\u001b[39m gallery_chunk_size\n",
      "\u001b[0;31mOutOfMemoryError\u001b[0m: CUDA out of memory. Tried to allocate 9.49 GiB. GPU 1 has a total capacity of 10.75 GiB of which 58.50 MiB is free. Process 3132175 has 10.47 GiB memory in use. Including non-PyTorch memory, this process has 218.00 MiB memory in use. Of the allocated memory 64.00 MiB is allocated by PyTorch, and 0 bytes is reserved by PyTorch but unallocated. If reserved but unallocated memory is large try setting PYTORCH_CUDA_ALLOC_CONF=expandable_segments:True to avoid fragmentation.  See documentation for Memory Management  (https://pytorch.org/docs/stable/notes/cuda.html#environment-variables)"
     ]
    }
   ],
   "source": [
    "ret_ids = retrieval(\n",
    "    eval_embs, gallery_embs, gallery_ids=gallery_ids, topK=50, device=device\n",
    ")\n",
    "eval_df[\"pred\"] = ret_ids"
   ]
  },
  {
   "cell_type": "code",
   "execution_count": 7,
   "metadata": {},
   "outputs": [
    {
     "data": {
      "text/plain": [
       "0.8050220513713172"
      ]
     },
     "execution_count": 7,
     "metadata": {},
     "output_type": "execute_result"
    }
   ],
   "source": [
    "eval_df[\"recall\"] = eval_df.apply(compute_recall(\"pred\"), axis=1)\n",
    "eval_df.recall.mean()"
   ]
  },
  {
   "cell_type": "code",
   "execution_count": 8,
   "metadata": {},
   "outputs": [],
   "source": [
    "eval_df.to_json(\n",
    "    \"../data/coupert/coupert_eval_retrieval.jsonl\", lines=True, orient=\"records\"\n",
    ")"
   ]
  },
  {
   "cell_type": "code",
   "execution_count": null,
   "metadata": {},
   "outputs": [
    {
     "name": "stdout",
     "output_type": "stream",
     "text": [
      "================================================================================\n",
      "id:100880478-276\n",
      "General Altimax 365AW All Weather 235/65R18 106H Passenger Tire\n",
      "['63756558-0', '1944496419-0', '263856407-0', '825309229-0', '1025875951-0', '3285357502-0', '2143074354-0', '103744749-0', '1089150340-0', '2345297602-0', '1802075194-0', '1116654937-0', '859303089-0', '641605974-0', '97342521-0', '2809986687-0', '2949535540-0', '3046923580-0', '3728682553-0', '2485909690-0', '1692728746-0', '2063507715-0', '1941630913-0', '2698843653-0', '2500948563-0', '3882629832-0', '3698358263-0', '2179756829-0', '2194726494-0', '3370662454-0', '877041296-0', '3328807914-0', '2996989986-0', '1090655876-0', '3927784586-0', '914985706-0', '408978891-0', '114138937-0', '1443120372-0', '1114779548-0', '2951705214-0', '2742751943-0', '2090611530-0', '2872805129-0', '3588140544-0', '3609349826-0', '3732609234-0', '53710038-0', '988344183-0', '1869192931-0']\n",
      "0.0\n",
      "['1770048153-0', '1782655961-0', '4250988828-0', '592391230-0', '4111365012-0', '3437314108-0', '3807079623-0', '2044313669-0', '1350907064-0', '2635729948-0', '3610173349-0', '3710943457-0', '4180902949-0', '520465357-0', '929149056-0', '1383954044-0', '3652256594-0']\n",
      "['General 15574760000 Altimax 365AW (235/65R18 106H)'\n",
      " 'General 15574760000 Altimax 365AW (235/65R18 106H)'\n",
      " 'General 15574760000 Altimax 365AW (235/65R18 106H)'\n",
      " 'General 15574760000 Altimax 365AW (235/65R18 106H)'\n",
      " 'General 15574760000 Altimax 365AW (235/65R18 106H)'\n",
      " 'General 15574760000 Altimax 365AW (235/65R18 106H)'\n",
      " 'General 15574760000 Altimax 365AW (235/65R18 106H)'\n",
      " 'General 15574760000 Altimax 365AW (235/65R18 106H)'\n",
      " 'General 15574760000 Altimax 365AW (235/65R18 106H)'\n",
      " 'General 15574760000 Altimax 365AW (235/65R18 106H)'\n",
      " 'General 15574760000 Altimax 365AW (235/65R18 106H)'\n",
      " 'General 15574760000 Altimax 365AW (235/65R18 106H)'\n",
      " 'General 15574760000 Altimax 365AW (235/65R18 106H)'\n",
      " 'General 15574760000 Altimax 365AW (235/65R18 106H)'\n",
      " 'General 15574760000 Altimax 365AW (235/65R18 106H)'\n",
      " 'General 15574760000 Altimax 365AW (235/65R18 106H)'\n",
      " 'General 15574760000 Altimax 365AW (235/65R18 106H)']\n",
      "['General Altimax 365AW 235/60R18 107H Tire'\n",
      " 'General Altimax 365AW 235/60R18 107H Tire'\n",
      " 'General Altimax 365AW 235/60R18 107H Tire'\n",
      " 'General Altimax 365AW 235/60R18 107H Tire'\n",
      " 'General Altimax 365AW 235/60R18 107H Tire'\n",
      " 'General Altimax 365AW 235/60R18 107H Tire'\n",
      " 'General Altimax 365AW 235/60R18 107H Tire'\n",
      " 'General Altimax 365AW 235/60R18 107H Tire'\n",
      " 'General Altimax 365AW 235/60R18 107H Tire'\n",
      " 'General Altimax 365AW 235/60R18 107H Tire'\n",
      " 'General Altimax 365AW 235/60R18 107H Tire'\n",
      " 'General Altimax 365AW 235/60R18 107H Tire'\n",
      " 'General Altimax 365AW 235/60R18 107H Tire'\n",
      " 'General Altimax 365AW 235/60R18 107H Tire'\n",
      " 'General Altimax 365AW 235/60R18 107H Tire'\n",
      " 'General Altimax 365AW 235/60R18 107H Tire'\n",
      " 'General Altimax 365AW 235/60R18 107H Tire'\n",
      " 'General Altimax 365AW 235/60R18 107H Tire'\n",
      " 'General Altimax 365AW 235/60R18 107H Tire'\n",
      " 'General Altimax 365AW 235/60R18 107H Tire'\n",
      " 'General Altimax 365AW 235/60R18 107H Tire'\n",
      " 'General Altimax 365AW 235/60R18 107H Tire'\n",
      " 'General Altimax 365AW 195/65R15 91H Tire'\n",
      " 'General Altimax 365AW 195/65R15 91H Tire'\n",
      " 'General Altimax 365AW 195/65R15 91H Tire'\n",
      " 'General Altimax 365AW 195/65R15 91H Tire'\n",
      " 'General Altimax 365AW 195/65R15 91H Tire'\n",
      " 'General Altimax 365AW 195/65R15 91H Tire'\n",
      " 'General Altimax 365AW 195/65R15 91H Tire'\n",
      " 'General Altimax 365AW 195/65R15 91H Tire'\n",
      " 'General Altimax 365AW 195/65R15 91H Tire'\n",
      " 'General Altimax 365AW 195/65R15 91H Tire'\n",
      " 'General Altimax 365AW 245/60R18 105H Tire'\n",
      " 'General Altimax 365AW 245/60R18 105H Tire'\n",
      " 'General Altimax 365AW 245/60R18 105H Tire'\n",
      " 'General Altimax 365AW 245/60R18 105H Tire'\n",
      " 'General Altimax 365AW 245/60R18 105H Tire'\n",
      " 'General Altimax 365AW 245/60R18 105H Tire'\n",
      " 'General Altimax 365AW 245/60R18 105H Tire'\n",
      " 'General Altimax 365AW 245/60R18 105H Tire'\n",
      " 'General Altimax 365AW 245/60R18 105H Tire'\n",
      " 'General Altimax 365AW 245/60R18 105H Tire'\n",
      " 'General Altimax 365AW 245/60R18 105H Tire'\n",
      " 'General Altimax 365AW 245/60R18 105H Tire'\n",
      " 'General Altimax 365AW 245/60R18 105H Tire'\n",
      " 'General Altimax 365AW 245/60R18 105H Tire'\n",
      " 'General Altimax 365AW 245/60R18 105H Tire'\n",
      " 'General Tire Altimax 365AW All-Weather 205/65R16 95H Tire'\n",
      " 'General Altimax 365AW All Weather 235/60R18 107H XL Passenger Tire'\n",
      " 'General Altimax 365AW 195/65R15 91H Tire']\n"
     ]
    }
   ],
   "source": [
    "# 找出recall<0.5的, 查看label的title和预测的title\n",
    "df = eval_df[eval_df.recall == 0]\n",
    "for i, row in df.iterrows():\n",
    "    print(\"=\" * 80)\n",
    "    print(f\"id:{row['dp-id']}\")\n",
    "    print(row[\"title\"])\n",
    "    print(row[\"pred\"])\n",
    "    print(row[\"recall\"])\n",
    "    print(row[\"label\"])\n",
    "    label = gallery_df[gallery_df[\"dp-id\"].isin(row[\"label\"])][\"title\"].values\n",
    "    pred = gallery_df[gallery_df[\"dp-id\"].isin(row[\"pred\"])][\"title\"].values\n",
    "    print(label)\n",
    "    print(pred)\n",
    "\n",
    "    if i > 10:\n",
    "        break"
   ]
  }
 ],
 "metadata": {
  "kernelspec": {
   "display_name": "base",
   "language": "python",
   "name": "python3"
  },
  "language_info": {
   "codemirror_mode": {
    "name": "ipython",
    "version": 3
   },
   "file_extension": ".py",
   "mimetype": "text/x-python",
   "name": "python",
   "nbconvert_exporter": "python",
   "pygments_lexer": "ipython3",
   "version": "3.12.8"
  }
 },
 "nbformat": 4,
 "nbformat_minor": 2
}
