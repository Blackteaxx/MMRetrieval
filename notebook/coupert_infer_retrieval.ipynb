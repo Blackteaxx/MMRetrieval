{
 "cells": [
  {
   "cell_type": "markdown",
   "metadata": {},
   "source": [
    "## Start compute simliarity between two strings"
   ]
  },
  {
   "cell_type": "code",
   "execution_count": 1,
   "metadata": {},
   "outputs": [],
   "source": [
    "import os\n",
    "import sys\n",
    "\n",
    "project_root = os.path.abspath(os.path.join(os.path.dirname(\"__file__\"), \"..\"))\n",
    "sys.path.append(project_root)\n",
    "os.environ[\"TOKENIZERS_PARALLELISM\"] = \"false\"\n"
   ]
  },
  {
   "cell_type": "code",
   "execution_count": 2,
   "metadata": {},
   "outputs": [
    {
     "name": "stderr",
     "output_type": "stream",
     "text": [
      "/home/hutu/miniconda3/lib/python3.12/site-packages/tqdm/auto.py:21: TqdmWarning: IProgress not found. Please update jupyter and ipywidgets. See https://ipywidgets.readthedocs.io/en/stable/user_install.html\n",
      "  from .autonotebook import tqdm as notebook_tqdm\n",
      "/home/hutu/miniconda3/lib/python3.12/site-packages/albumentations/__init__.py:24: UserWarning: A new version of Albumentations is available: 2.0.0 (you have 1.4.24). Upgrade using: pip install -U albumentations. To disable automatic update checks, set the environment variable NO_ALBUMENTATIONS_UPDATE to 1.\n",
      "  check_for_updates()\n"
     ]
    }
   ],
   "source": [
    "from src.dataset.coupert import CoupertDataset\n",
    "from src.arguments import DataArguments\n",
    "from utils.retrieval import retrieval\n",
    "from utils.metrics import compute_recall\n",
    "from transformers import AutoTokenizer, AutoModel\n",
    "import torch\n",
    "from tqdm import tqdm\n",
    "import numpy as np\n",
    "import pandas as pd\n",
    "from safetensors.torch import save_file, load_file\n",
    "\n",
    "model_dir = \"../model/Marqo/marqo-ecommerce-embeddings-L\"\n",
    "embedding_path = os.path.join(\n",
    "    \"../embeddings/\", model_dir.split(\"/\")[-1] + \".safetensors\"\n",
    ")\n",
    "data_dir = \"../data/coupert\"\n",
    "device = \"cuda:1\"\n"
   ]
  },
  {
   "cell_type": "code",
   "execution_count": 3,
   "metadata": {},
   "outputs": [],
   "source": [
    "embs = load_file(embedding_path)\n",
    "eval_embs = embs[\"eval_embs\"]\n",
    "eval_ids = embs[\"eval_ids\"]\n",
    "gallery_embs = embs[\"gallery_embs\"]\n",
    "gallery_ids = embs[\"gallery_ids\"]\n",
    "\n",
    "# 按id将embs排序\n",
    "eval_embs_pos = torch.argsort(eval_ids)\n",
    "gallery_embs_pos = torch.argsort(gallery_ids)\n",
    "eval_embs = eval_embs[eval_embs_pos]\n",
    "gallery_embs = gallery_embs[gallery_embs_pos]"
   ]
  },
  {
   "cell_type": "code",
   "execution_count": 4,
   "metadata": {},
   "outputs": [],
   "source": [
    "eval_df = pd.read_json(\"../data/coupert/coupert_eval.jsonl\", lines=True)\n",
    "gallery_df = pd.read_json(\"../data/coupert/coupert_gallery.jsonl\", lines=True)\n"
   ]
  },
  {
   "cell_type": "code",
   "execution_count": 5,
   "metadata": {},
   "outputs": [
    {
     "data": {
      "text/plain": [
       "(2488144, torch.Size([2488144, 2048]))"
      ]
     },
     "execution_count": 5,
     "metadata": {},
     "output_type": "execute_result"
    }
   ],
   "source": [
    "gallery_ids = gallery_df[\"dp-id\"].values.tolist()\n",
    "len(gallery_ids), gallery_embs.shape"
   ]
  },
  {
   "cell_type": "code",
   "execution_count": 6,
   "metadata": {},
   "outputs": [
    {
     "name": "stdout",
     "output_type": "stream",
     "text": [
      "Chunk Size: 512, 32 chunks\n",
      "Gallery Chunk Size: 512, 4860 chunks\n"
     ]
    },
    {
     "name": "stderr",
     "output_type": "stream",
     "text": [
      "100%|██████████| 32/32 [07:55<00:00, 14.86s/it]\n"
     ]
    }
   ],
   "source": [
    "ret_ids = retrieval(\n",
    "    eval_embs, gallery_embs, gallery_ids=gallery_ids, topK=50, device=device\n",
    ")\n",
    "eval_df[\"pred\"] = ret_ids"
   ]
  },
  {
   "cell_type": "code",
   "execution_count": 7,
   "metadata": {},
   "outputs": [
    {
     "data": {
      "text/plain": [
       "0.8415787924926105"
      ]
     },
     "execution_count": 7,
     "metadata": {},
     "output_type": "execute_result"
    }
   ],
   "source": [
    "eval_df[\"recall\"] = eval_df.apply(compute_recall(\"pred\"), axis=1)\n",
    "eval_df.recall.mean()"
   ]
  },
  {
   "cell_type": "code",
   "execution_count": 8,
   "metadata": {},
   "outputs": [],
   "source": [
    "eval_df.to_json(\n",
    "    \"../data/coupert/coupert_eval_retrieval.jsonl\", lines=True, orient=\"records\"\n",
    ")"
   ]
  },
  {
   "cell_type": "code",
   "execution_count": 9,
   "metadata": {},
   "outputs": [
    {
     "name": "stdout",
     "output_type": "stream",
     "text": [
      "================================================================================\n",
      "id:100880478-276\n",
      "General Altimax 365AW All Weather 235/65R18 106H Passenger Tire\n",
      "['63756558-0', '3285357502-0', '97342521-0', '103744749-0', '859303089-0', '263856407-0', '3728682553-0', '1944496419-0', '1802075194-0', '1941630913-0', '641605974-0', '1025875951-0', '2143074354-0', '2485909690-0', '2063507715-0', '3046923580-0', '1692728746-0', '2949535540-0', '1243000525-0', '973816073-0', '2112996849-0', '3703146430-0', '2783511058-0', '1049779333-0', '988344183-0', '1519383800-0', '4241923034-0', '2115352896-0', '3486233382-0', '4090830469-0', '2257690257-0', '841597656-0', '2117645699-0', '771013140-0', '1069520048-0', '3110130633-0', '2956862689-0', '834186315-0', '426765928-0', '1025092305-0', '3193998679-0', '3470158941-0', '2175762130-0', '3328807914-0', '2194726494-0', '877041296-0', '408978891-0', '2500948563-0', '1090655876-0', '3370662454-0']\n",
      "0.0\n",
      "['1770048153-0', '1782655961-0', '4250988828-0', '592391230-0', '4111365012-0', '3437314108-0', '3807079623-0', '2044313669-0', '1350907064-0', '2635729948-0', '3610173349-0', '3710943457-0', '4180902949-0', '520465357-0', '929149056-0', '1383954044-0', '3652256594-0']\n",
      "['General 15574760000 Altimax 365AW (235/65R18 106H)'\n",
      " 'General 15574760000 Altimax 365AW (235/65R18 106H)'\n",
      " 'General 15574760000 Altimax 365AW (235/65R18 106H)'\n",
      " 'General 15574760000 Altimax 365AW (235/65R18 106H)'\n",
      " 'General 15574760000 Altimax 365AW (235/65R18 106H)'\n",
      " 'General 15574760000 Altimax 365AW (235/65R18 106H)'\n",
      " 'General 15574760000 Altimax 365AW (235/65R18 106H)'\n",
      " 'General 15574760000 Altimax 365AW (235/65R18 106H)'\n",
      " 'General 15574760000 Altimax 365AW (235/65R18 106H)'\n",
      " 'General 15574760000 Altimax 365AW (235/65R18 106H)'\n",
      " 'General 15574760000 Altimax 365AW (235/65R18 106H)'\n",
      " 'General 15574760000 Altimax 365AW (235/65R18 106H)'\n",
      " 'General 15574760000 Altimax 365AW (235/65R18 106H)'\n",
      " 'General 15574760000 Altimax 365AW (235/65R18 106H)'\n",
      " 'General 15574760000 Altimax 365AW (235/65R18 106H)'\n",
      " 'General 15574760000 Altimax 365AW (235/65R18 106H)'\n",
      " 'General 15574760000 Altimax 365AW (235/65R18 106H)']\n",
      "['General Altimax 365AW 235/60R18 107H Tire'\n",
      " 'General Altimax 365AW 235/60R18 107H Tire'\n",
      " 'General Altimax 365AW 235/60R18 107H Tire'\n",
      " 'General Altimax 365AW 235/60R18 107H Tire'\n",
      " 'General Altimax 365AW 235/60R18 107H Tire'\n",
      " 'General Altimax 365AW 235/60R18 107H Tire'\n",
      " 'General Altimax 365AW 235/60R18 107H Tire'\n",
      " 'General Altimax 365AW 235/60R18 107H Tire'\n",
      " 'General Altimax 365AW 235/60R18 107H Tire'\n",
      " 'General Altimax 365AW 235/60R18 107H Tire'\n",
      " 'General Altimax 365AW 235/60R18 107H Tire'\n",
      " 'General Altimax 365AW 235/60R18 107H Tire'\n",
      " 'General Altimax 365AW 235/60R18 107H Tire'\n",
      " 'General Altimax 365AW 235/60R18 107H Tire'\n",
      " 'General Altimax 365AW 235/60R18 107H Tire'\n",
      " 'General Altimax 365AW 235/60R18 107H Tire'\n",
      " 'General Altimax 365AW 235/60R18 107H Tire'\n",
      " 'General Altimax 365AW 195/65R15 91H Tire'\n",
      " 'General Altimax 365AW 195/65R15 91H Tire'\n",
      " 'General Altimax 365AW 195/65R15 91H Tire'\n",
      " 'General Altimax 365AW 195/65R15 91H Tire'\n",
      " 'General Altimax 365AW 245/60R18 105H Tire'\n",
      " 'General Altimax 365AW 245/60R18 105H Tire'\n",
      " 'General Altimax 365AW 245/60R18 105H Tire'\n",
      " 'General Altimax 365AW 245/60R18 105H Tire'\n",
      " 'General Altimax 365AW 245/60R18 105H Tire'\n",
      " 'General Altimax 365AW 245/60R18 105H Tire'\n",
      " 'General Altimax 365AW 245/60R18 105H Tire'\n",
      " 'General Altimax 365AW Tire 245/40R18XL 97V'\n",
      " 'General Altimax 365AW Tire 245/40R18XL 97V'\n",
      " 'General Altimax 365AW Tire 245/40R18XL 97V'\n",
      " 'General Altimax 365AW Tire 245/40R18XL 97V'\n",
      " 'General 15574380000 Altimax 365AW (225/65R17 102H)'\n",
      " 'General 15574380000 Altimax 365AW (225/65R17 102H)'\n",
      " 'General 15574380000 Altimax 365AW (225/65R17 102H)'\n",
      " 'General 15574380000 Altimax 365AW (225/65R17 102H)'\n",
      " 'General 15574380000 Altimax 365AW (225/65R17 102H)'\n",
      " 'General 225/65R17 Altimax 365AW (102H)'\n",
      " 'General 225/65R17 Altimax 365AW (102H)'\n",
      " 'General 15574380000 Altimax 365AW (225/65R17 102H)'\n",
      " 'General 15574380000 Altimax 365AW (225/65R17 102H)'\n",
      " 'General 15574380000 Altimax 365AW (225/65R17 102H)'\n",
      " 'General 225/65R17 Altimax 365AW (102H)'\n",
      " 'General 225/65R17 Altimax 365AW (102H)'\n",
      " 'General 15574380000 Altimax 365AW (225/65R17 102H)'\n",
      " 'General 15574380000 Altimax 365AW (225/65R17 102H)'\n",
      " 'General 15574380000 Altimax 365AW (225/65R17 102H)'\n",
      " 'General 225/65R17 Altimax 365AW (102H)'\n",
      " 'General 15574380000 Altimax 365AW (225/65R17 102H)'\n",
      " 'General Altimax 365AW All Weather 235/60R18 107H XL Passenger Tire']\n"
     ]
    }
   ],
   "source": [
    "# 找出recall<0.5的, 查看label的title和预测的title\n",
    "df = eval_df[eval_df.recall == 0]\n",
    "for i, row in df.iterrows():\n",
    "    print(\"=\" * 80)\n",
    "    print(f\"id:{row['dp-id']}\")\n",
    "    print(row[\"title\"])\n",
    "    print(row[\"pred\"])\n",
    "    print(row[\"recall\"])\n",
    "    print(row[\"label\"])\n",
    "    label = gallery_df[gallery_df[\"dp-id\"].isin(row[\"label\"])][\"title\"].values\n",
    "    pred = gallery_df[gallery_df[\"dp-id\"].isin(row[\"pred\"])][\"title\"].values\n",
    "    print(label)\n",
    "    print(pred)\n",
    "\n",
    "    if i > 10:\n",
    "        break"
   ]
  }
 ],
 "metadata": {
  "kernelspec": {
   "display_name": "base",
   "language": "python",
   "name": "python3"
  },
  "language_info": {
   "codemirror_mode": {
    "name": "ipython",
    "version": 3
   },
   "file_extension": ".py",
   "mimetype": "text/x-python",
   "name": "python",
   "nbconvert_exporter": "python",
   "pygments_lexer": "ipython3",
   "version": "3.12.9"
  }
 },
 "nbformat": 4,
 "nbformat_minor": 2
}
