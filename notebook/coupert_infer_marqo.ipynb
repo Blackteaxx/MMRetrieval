{
 "cells": [
  {
   "cell_type": "code",
   "execution_count": 1,
   "metadata": {},
   "outputs": [],
   "source": [
    "import os\n",
    "import sys\n",
    "\n",
    "project_root = os.path.abspath(os.path.join(os.path.dirname(\"__file__\"), \"..\"))\n",
    "sys.path.append(project_root)\n",
    "os.environ[\"TOKENIZERS_PARALLELISM\"] = \"false\""
   ]
  },
  {
   "cell_type": "code",
   "execution_count": null,
   "metadata": {},
   "outputs": [],
   "source": [
    "from src.dataset.coupert import CoupertDataset\n",
    "from src.arguments import DataArguments\n",
    "from utils.embedder import Embedder\n",
    "from src.modeling.marqo_fashionSigLIP import MarqoFashionSigLIPForEmbedding\n",
    "from transformers import AutoTokenizer, AutoModel, AutoProcessor\n",
    "import torch\n",
    "from tqdm import tqdm\n",
    "import numpy as np\n",
    "from safetensors.torch import save_file, load_file\n",
    "\n",
    "model_dir = \"../model/Marqo/marqo-ecommerce-embeddings-L\"\n",
    "embedding_path = \"../embeddings/\" + model_dir.split(\"/\")[-1] + \".safetensors\"\n",
    "data_dir = \"../data/coupert\"\n",
    "\n",
    "print(torch.cuda.device_count())"
   ]
  },
  {
   "cell_type": "code",
   "execution_count": null,
   "metadata": {},
   "outputs": [],
   "source": [
    "processor = AutoProcessor.from_pretrained(model_dir, trust_remote_code=True)\n",
    "model = MarqoFashionSigLIPForEmbedding.from_pretrained(model_dir)\n",
    "\n",
    "train_config = DataArguments(data_dir=data_dir, read_mode=\"all\")\n",
    "\n",
    "eval_config = DataArguments(data_dir=data_dir, read_mode=\"all\")\n",
    "gallery_config = DataArguments(data_dir=data_dir, read_mode=\"all\")\n",
    "\n",
    "train_dataset = CoupertDataset(train_config, mode=\"train\")\n",
    "eval_dataset = CoupertDataset(eval_config, mode=\"eval\")\n",
    "gallery_dataset = CoupertDataset(gallery_config, mode=\"gallery\")"
   ]
  },
  {
   "cell_type": "code",
   "execution_count": 4,
   "metadata": {},
   "outputs": [],
   "source": [
    "query_instruction_for_retrieval = (\n",
    "    \"Represent this title of product for searching similar products. \\n {}\"\n",
    ")\n",
    "\n",
    "\n",
    "def get_collate_fn(processor):\n",
    "    def collate_fn(batch):\n",
    "        images = [item[\"image\"] for item in batch]\n",
    "        texts = [item[\"title\"] for item in batch]\n",
    "        processor.image_processor.do_rescale = False\n",
    "        processed = processor(\n",
    "            text=texts,\n",
    "            images=images,\n",
    "            padding=\"max_length\",\n",
    "            truncation=True,\n",
    "            return_tensors=\"pt\",\n",
    "        )\n",
    "        return processed\n",
    "\n",
    "    return collate_fn\n",
    "\n",
    "\n",
    "train_loader = torch.utils.data.DataLoader(\n",
    "    train_dataset,\n",
    "    batch_size=512,\n",
    "    shuffle=True,\n",
    "    collate_fn=get_collate_fn(processor),\n",
    "    num_workers=32,\n",
    "    pin_memory=True,\n",
    ")\n",
    "\n",
    "eval_loader = torch.utils.data.DataLoader(\n",
    "    eval_dataset,\n",
    "    batch_size=128,\n",
    "    shuffle=False,\n",
    "    collate_fn=get_collate_fn(processor),\n",
    "    num_workers=16,\n",
    "    pin_memory=True,\n",
    ")\n",
    "\n",
    "gallery_loader = torch.utils.data.DataLoader(\n",
    "    gallery_dataset,\n",
    "    batch_size=128,\n",
    "    shuffle=False,\n",
    "    collate_fn=get_collate_fn(processor),\n",
    "    num_workers=16,\n",
    "    pin_memory=True,\n",
    ")"
   ]
  },
  {
   "cell_type": "code",
   "execution_count": null,
   "metadata": {},
   "outputs": [],
   "source": [
    "embedder = Embedder(model, processor=processor, tokenizer=None)\n",
    "embedder.embed(eval_loader, \"eval\")\n",
    "embedder.embed(gallery_loader, \"gallery\")\n",
    "embedder.save_embeddings(embedding_path)"
   ]
  }
 ],
 "metadata": {
  "kernelspec": {
   "display_name": "base",
   "language": "python",
   "name": "python3"
  },
  "language_info": {
   "codemirror_mode": {
    "name": "ipython",
    "version": 3
   },
   "file_extension": ".py",
   "mimetype": "text/x-python",
   "name": "python",
   "nbconvert_exporter": "python",
   "pygments_lexer": "ipython3",
   "version": "3.12.8"
  }
 },
 "nbformat": 4,
 "nbformat_minor": 2
}
