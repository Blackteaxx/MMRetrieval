{
 "cells": [
  {
   "cell_type": "markdown",
   "metadata": {},
   "source": [
    "## Start compute simliarity between two strings"
   ]
  },
  {
   "cell_type": "code",
   "execution_count": 1,
   "metadata": {},
   "outputs": [],
   "source": [
    "import os\n",
    "import sys\n",
    "\n",
    "project_root = os.path.abspath(os.path.join(os.path.dirname(\"__file__\"), \"..\"))\n",
    "sys.path.append(project_root)\n",
    "os.environ[\"TOKENIZERS_PARALLELISM\"] = \"false\"\n"
   ]
  },
  {
   "cell_type": "code",
   "execution_count": null,
   "metadata": {},
   "outputs": [],
   "source": [
    "from src.dataset.coupert import CoupertDataset\n",
    "from src.arguments import DataArguments\n",
    "from utils.retrieval import retrieval\n",
    "from utils.metrics import compute_recall\n",
    "from transformers import AutoTokenizer, AutoModel\n",
    "import torch\n",
    "from tqdm import tqdm\n",
    "import numpy as np\n",
    "import pandas as pd\n",
    "from safetensors.torch import save_file, load_file\n",
    "\n",
    "model_dir = \"../model/bge_base_en_v1.5\"\n",
    "data_dir = \"../data/coupert\"\n",
    "device = \"cuda:1\"\n"
   ]
  },
  {
   "cell_type": "code",
   "execution_count": 3,
   "metadata": {},
   "outputs": [],
   "source": [
    "embs = load_file(\"../embeddings/embs_bge_base_en.safetensors\")\n",
    "eval_embs = embs[\"eval_embs\"]\n",
    "gallery_embs = embs[\"gallery_embs\"]"
   ]
  },
  {
   "cell_type": "code",
   "execution_count": 4,
   "metadata": {},
   "outputs": [],
   "source": [
    "eval_df = pd.read_json(\"../data/coupert/coupert_eval.jsonl\", lines=True)\n",
    "gallery_df = pd.read_json(\"../data/coupert/coupert_gallery.jsonl\", lines=True)\n"
   ]
  },
  {
   "cell_type": "code",
   "execution_count": null,
   "metadata": {},
   "outputs": [],
   "source": [
    "gallery_ids = gallery_df[\"dp-id\"].values.tolist()\n",
    "len(gallery_ids), gallery_embs.shape"
   ]
  },
  {
   "cell_type": "code",
   "execution_count": null,
   "metadata": {},
   "outputs": [
    {
     "ename": "",
     "evalue": "",
     "output_type": "error",
     "traceback": [
      "\u001b[1;31mThe Kernel crashed while executing code in the current cell or a previous cell. \n",
      "\u001b[1;31mPlease review the code in the cell(s) to identify a possible cause of the failure. \n",
      "\u001b[1;31mClick <a href='https://aka.ms/vscodeJupyterKernelCrash'>here</a> for more info. \n",
      "\u001b[1;31mView Jupyter <a href='command:jupyter.viewOutput'>log</a> for further details."
     ]
    }
   ],
   "source": [
    "ret_ids = retrieval(\n",
    "    eval_embs, gallery_embs, gallery_ids=gallery_ids, topK=50, device=device\n",
    ")\n",
    "eval_df[\"bge_base_en_v1.5\"] = ret_ids"
   ]
  },
  {
   "cell_type": "code",
   "execution_count": null,
   "metadata": {},
   "outputs": [],
   "source": [
    "ret_ids"
   ]
  },
  {
   "cell_type": "code",
   "execution_count": null,
   "metadata": {},
   "outputs": [],
   "source": [
    "eval_df[\"bge_recall\"] = eval_df.apply(compute_recall(\"bge_base_en_v1.5\"), axis=1)\n",
    "eval_df.bge_recall.mean()"
   ]
  },
  {
   "cell_type": "code",
   "execution_count": null,
   "metadata": {},
   "outputs": [],
   "source": [
    "eval_df.bge_recall.tolist()"
   ]
  },
  {
   "cell_type": "code",
   "execution_count": null,
   "metadata": {},
   "outputs": [],
   "source": [
    "# 找出recall<0.5的, 查看label的title和预测的title\n",
    "df = eval_df[eval_df.bge_recall == 0]\n",
    "for i, row in df.iterrows():\n",
    "    print(\"=\" * 80)\n",
    "    print(f\"id:{row['dp-id']}\")\n",
    "    print(row[\"title\"])\n",
    "    print(row[\"bge_base_en_v1.5\"])\n",
    "    print(row[\"bge_recall\"])\n",
    "    print(row[\"label\"])\n",
    "    label = gallery_df[gallery_df[\"dp-id\"].isin(row[\"label\"])][\"title\"].values\n",
    "    pred = gallery_df[gallery_df[\"dp-id\"].isin(row[\"bge_base_en_v1.5\"])][\"title\"].values\n",
    "    print(label)\n",
    "    print(pred)\n",
    "\n",
    "    if i > 10:\n",
    "        break\n",
    "    \n",
    "    \n",
    "\n",
    "    [\n",
    "        \"3803227877-0\",\n",
    "        \"1861470251-0\",\n",
    "        \"2128190263-0\",\n",
    "        \"1245497872-0\",\n",
    "        \"3919540852-0\",\n",
    "        \"1707017143-0\",\n",
    "        \"2800183383-0\",\n",
    "        \"3248669584-0\",\n",
    "        \"1643035571-0\",\n",
    "        \"1240240909-0\",\n",
    "        \"1220245221-0\",\n",
    "    ]"
   ]
  }
 ],
 "metadata": {
  "kernelspec": {
   "display_name": "base",
   "language": "python",
   "name": "python3"
  },
  "language_info": {
   "codemirror_mode": {
    "name": "ipython",
    "version": 3
   },
   "file_extension": ".py",
   "mimetype": "text/x-python",
   "name": "python",
   "nbconvert_exporter": "python",
   "pygments_lexer": "ipython3",
   "version": "3.12.8"
  }
 },
 "nbformat": 4,
 "nbformat_minor": 2
}
